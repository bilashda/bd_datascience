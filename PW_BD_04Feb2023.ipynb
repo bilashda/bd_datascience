{
 "cells": [
  {
   "cell_type": "markdown",
   "id": "427dcb72",
   "metadata": {},
   "source": [
    "# 4th Feb Assignment"
   ]
  },
  {
   "cell_type": "markdown",
   "id": "4b9985ab",
   "metadata": {},
   "source": [
    "### Q1. Create a python program to sort the given list of tuples based on integer value using a lambda function. \n",
    "\n"
   ]
  },
  {
   "cell_type": "code",
   "execution_count": 23,
   "id": "b10f77d5",
   "metadata": {},
   "outputs": [
    {
     "name": "stdout",
     "output_type": "stream",
     "text": [
      "Sorted Tuples are :  [('Virat Kohli', 24936), ('Jack Kallis', 25534), ('Ricky Ponting', 27483), ('Sachin Tendulkar', 34357)]\n"
     ]
    }
   ],
   "source": [
    "#In place implementation\n",
    "list_1 =  [('Sachin Tendulkar', 34357), ('Ricky Ponting', 27483), ('Jack Kallis', 25534), ('Virat Kohli', 24936)]\n",
    "list_1.sort(key= lambda tup: tup[1], reverse = False)\n",
    "print('Sorted Tuples are using INPLACE sort is : ',list_1)"
   ]
  },
  {
   "cell_type": "code",
   "execution_count": 25,
   "id": "9be14ab7",
   "metadata": {},
   "outputs": [
    {
     "name": "stdout",
     "output_type": "stream",
     "text": [
      " Sorted List of tuples using variable si [('Virat Kohli', 24936), ('Jack Kallis', 25534), ('Ricky Ponting', 27483), ('Sachin Tendulkar', 34357)]\n"
     ]
    }
   ],
   "source": [
    "# Variable implementation\n",
    "sorted_list= sorted(list_1,key= lambda tup: tup[1], reverse = False)\n",
    "print(f' Sorted List of tuples using variable is {sorted_list}')"
   ]
  },
  {
   "cell_type": "markdown",
   "id": "cfd0369b",
   "metadata": {},
   "source": [
    "### Q2. Write a Python Program to find the squares of all the numbers in the given list of integers using lambda and map functions.\n",
    "\n",
    "[1, 2, 3, 4, 5, 6, 7, 8, 9, 10]"
   ]
  },
  {
   "cell_type": "code",
   "execution_count": 14,
   "id": "55a4ed18",
   "metadata": {},
   "outputs": [
    {
     "name": "stdout",
     "output_type": "stream",
     "text": [
      "[1, 4, 9, 16, 25, 36, 49, 64, 81, 100]\n"
     ]
    }
   ],
   "source": [
    "raw_list =[1, 2, 3, 4, 5, 6, 7, 8, 9, 10]\n",
    "squared_list = list(map(lambda x: x**2,raw_list))\n",
    "print(squared_list)"
   ]
  },
  {
   "cell_type": "markdown",
   "id": "c6ce5568",
   "metadata": {},
   "source": [
    "### Q3. Write a python program to convert the given list of integers into a tuple of strings. Use map and lambda functions\n",
    "\n",
    "\n",
    "Given String: [1, 2, 3, 4, 5, 6, 7, 8, 9, 10]\n",
    "\n",
    "Expected output: ('1', '2', '3', '4', '5', '6', '7', '8', '9', '10')"
   ]
  },
  {
   "cell_type": "code",
   "execution_count": 17,
   "id": "230fee56",
   "metadata": {},
   "outputs": [
    {
     "name": "stdout",
     "output_type": "stream",
     "text": [
      "['1', '2', '3', '4', '5', '6', '7', '8', '9', '10']\n"
     ]
    }
   ],
   "source": [
    "intList = [1, 2, 3, 4, 5, 6, 7, 8, 9, 10]\n",
    "tupString = list(map(lambda x:str(x),intList))\n",
    "print(tupString)"
   ]
  },
  {
   "cell_type": "markdown",
   "id": "4583dbb5",
   "metadata": {},
   "source": [
    "### Q4.  Write a python program using reduce function to compute the product of a list containing numbers from 1 to 25.\n"
   ]
  },
  {
   "cell_type": "code",
   "execution_count": 22,
   "id": "4b6a6047",
   "metadata": {},
   "outputs": [
    {
     "name": "stdout",
     "output_type": "stream",
     "text": [
      "15511210043330985984000000\n"
     ]
    }
   ],
   "source": [
    "from functools import  reduce\n",
    "list1to25 = list(range(1,26))\n",
    "prodList = reduce(lambda x,y : x*y,list1to25)\n",
    "print(prodList)"
   ]
  },
  {
   "cell_type": "markdown",
   "id": "f4d58a6a",
   "metadata": {},
   "source": [
    "### Q5. Write a python program to filter the numbers in a given list that are divisible by 2 and 3 using the filter function.\n",
    "\n",
    "\n",
    "[2, 3, 6, 9, 27, 60, 90, 120, 55, 46]"
   ]
  },
  {
   "cell_type": "code",
   "execution_count": 46,
   "id": "39b0a55e",
   "metadata": {},
   "outputs": [
    {
     "name": "stdout",
     "output_type": "stream",
     "text": [
      "The filtered list divisible by 2 and 3 are [6, 60, 90, 120]\n"
     ]
    }
   ],
   "source": [
    "filter_list = [2, 3, 6, 9, 27, 60, 90, 120, 55, 46]\n",
    "filtered_list = list(filter(lambda x: x%6==0,filter_list))\n",
    "\n",
    "print('The filtered list divisible by 2 and 3 is {}'.format(filtered_list))"
   ]
  },
  {
   "cell_type": "markdown",
   "id": "79378023",
   "metadata": {},
   "source": [
    "### Q6. Write a python program to find palindromes in the given list of strings using lambda and filter function.\n",
    "\n",
    "\n",
    "['python', 'php', 'aba', 'radar', 'level']"
   ]
  },
  {
   "cell_type": "code",
   "execution_count": 51,
   "id": "f6a7b151",
   "metadata": {},
   "outputs": [
    {
     "name": "stdout",
     "output_type": "stream",
     "text": [
      "Palindrome strings in the list are ['php', 'aba', 'radar', 'level']\n"
     ]
    }
   ],
   "source": [
    "stringList = ['python', 'php', 'aba', 'radar', 'level']\n",
    "palindromeList = list(filter(lambda s : s == s[::-1],stringList))\n",
    "print(f\"Palindrome strings in the list are {palindromeList}\")"
   ]
  },
  {
   "cell_type": "code",
   "execution_count": null,
   "id": "11254d82",
   "metadata": {},
   "outputs": [],
   "source": []
  }
 ],
 "metadata": {
  "kernelspec": {
   "display_name": "Python 3 (ipykernel)",
   "language": "python",
   "name": "python3"
  },
  "language_info": {
   "codemirror_mode": {
    "name": "ipython",
    "version": 3
   },
   "file_extension": ".py",
   "mimetype": "text/x-python",
   "name": "python",
   "nbconvert_exporter": "python",
   "pygments_lexer": "ipython3",
   "version": "3.9.13"
  }
 },
 "nbformat": 4,
 "nbformat_minor": 5
}
